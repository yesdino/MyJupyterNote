{
 "cells": [
  {
   "cell_type": "markdown",
   "metadata": {
    "run_control": {
     "frozen": false,
     "read_only": false
    }
   },
   "source": [
    "# Binary Search"
   ]
  },
  {
   "cell_type": "markdown",
   "metadata": {},
   "source": [
    "In this lecture, you will learn:\n",
    "\n",
    "<a href='#Ex1'>Ex.1 Binary Search Review</a>\n",
    "\n",
    "<a href='#Ex2'>Ex.2 Binary Search Template 模板</a>\n",
    "\n",
    "<a href='#Ex3'>Ex.3 Find Min in Rotated Sorted Array 在旋转数组中搜索最小值</a>\n",
    "\n",
    "<a href='#Ex4'>Ex.4 Find in Rotated Array 在旋转数组中搜索值</a>\n",
    "\n",
    "<a href='#Ex5'>Ex.5 Search Insert Position 找到插入位置 </a>\n",
    "\n",
    "<a href='#Ex6'>Ex.6 Find Range 找到 target 区间</a>\n",
    "\n",
    "<a href='#Ex7'>Ex.7 Search in Sorted Array with Empty Strings 含有空字符串的数组中查找值</a>\n",
    "\n",
    "<a href='#Ex8'>Ex.8 Search 1st Position of element in Infinite Array 无限序列</a>\n",
    "\n",
    "---"
   ]
  },
  {
   "cell_type": "markdown",
   "metadata": {
    "run_control": {
     "frozen": false,
     "read_only": false
    }
   },
   "source": [
    "### <a id=\"Ex1\">Ex.1: Binary Search Review</a>\n",
    "\n",
    "Find 1st position of target, return -1 if not found\n",
    "\n",
    "How about last position, any position?"
   ]
  },
  {
   "cell_type": "markdown",
   "metadata": {
    "run_control": {
     "frozen": false,
     "read_only": false
    }
   },
   "source": [
    "Binary Search (iterative)"
   ]
  },
  {
   "cell_type": "code",
   "execution_count": 8,
   "metadata": {
    "collapsed": true,
    "run_control": {
     "frozen": false,
     "read_only": false
    }
   },
   "outputs": [],
   "source": [
    "def bi_search_iter(lis, target):\n",
    "    left, right = 0, len(lis) - 1\n",
    "    while left <= right:\n",
    "        mid = (left + right)//2\n",
    "        if lis[mid] < target:\n",
    "            left = mid + 1\n",
    "        elif lis[mid] > target:\n",
    "            right = mid - 1\n",
    "        else:              # lis[mid] = target\n",
    "            return mid\n",
    "    return -1"
   ]
  },
  {
   "cell_type": "code",
   "execution_count": 5,
   "metadata": {
    "run_control": {
     "frozen": false,
     "read_only": false
    }
   },
   "outputs": [
    {
     "name": "stdout",
     "output_type": "stream",
     "text": [
      "4\n",
      "-1\n"
     ]
    }
   ],
   "source": [
    "num_list = [1,2,3,5,7,8,9]\n",
    "print(bi_search_iter(num_list, 7))\n",
    "print(bi_search_iter(num_list, 4))"
   ]
  },
  {
   "cell_type": "markdown",
   "metadata": {},
   "source": [
    "### <a id=\"Ex2\">Ex.2: Binary Search Template 模板</a>\n",
    "\n",
    "Remember? \n",
    "\n",
    "**Template!** 二分搜索模板"
   ]
  },
  {
   "cell_type": "code",
   "execution_count": 1,
   "metadata": {},
   "outputs": [],
   "source": [
    "# 二分搜索 模板\n",
    "def binarysearch(lis, target):\n",
    "    if len(lis) == 0:\n",
    "        return -1\n",
    "    \n",
    "    left, right = 0, len(lis) - 1\n",
    "    while left + 1 < right:\n",
    "        mid = left + (right - left)//2\n",
    "        if lis[mid] == target:\n",
    "            right = mid\n",
    "        elif lis[mid] < target:\n",
    "            left = mid\n",
    "        elif lis[mid] > target:\n",
    "            right = mid\n",
    "    \n",
    "    if lis[left] == target:\n",
    "        return left\n",
    "    if lis[right] == target:\n",
    "        return right\n",
    "    \n",
    "    return -1"
   ]
  },
  {
   "cell_type": "markdown",
   "metadata": {},
   "source": [
    "### <a id=\"Ex3\">Ex.3 Find Min in Rotated Sorted Array 在旋转数组中搜索最小值</a>\n",
    "\n",
    "Suppose an array sorted in ascending order is rotated at some pivot unknown to you beforehand. Find the minimum element."
   ]
  },
  {
   "cell_type": "code",
   "execution_count": 3,
   "metadata": {},
   "outputs": [],
   "source": [
    "# O(nlgn)\n",
    "def searchlazy(lis):\n",
    "    lis.sort()\n",
    "    return lis[0]\n",
    "\n",
    "# O(n)\n",
    "def searchslow(lis):\n",
    "    mmin = lis[0]\n",
    "    for i in lis:\n",
    "        mmin = min(mmin, i)\n",
    "    return mmin "
   ]
  },
  {
   "cell_type": "code",
   "execution_count": 1,
   "metadata": {},
   "outputs": [],
   "source": [
    "# 在旋转数组中查找 最小值\n",
    "# O(lgn) 二分法\n",
    "# 思路：有拐点的部分 才有最小值\n",
    "def search_min_in_rotated_arr(lis):\n",
    "    if len(lis) == 0:\n",
    "        return -1\n",
    "\n",
    "    left, right = 0, len(lis) - 1\n",
    "    while left + 1 < right:\n",
    "        if (lis[left] < lis[right]): # 若发现当前部分是排好序的，后面的都不做\n",
    "            return lis[left]\n",
    "        \n",
    "        # 缩小范围\n",
    "        mid = left + (right - left) // 2\n",
    "        if (lis[left] <= lis[mid]):  # 前半部分是排好序的，后半部分是有拐点的\n",
    "            left = mid + 1           # 到后半部分(不包含 mid)去找 （有拐点的部分才有最小值）\n",
    "        else:\n",
    "            right = mid              # 到前半部分(包含 mid)去找\n",
    "            \n",
    "    if lis[left] < lis[right]:       # 谁小取谁\n",
    "        return lis[left]\n",
    "    else:\n",
    "        return lis[right]"
   ]
  },
  {
   "cell_type": "code",
   "execution_count": 2,
   "metadata": {},
   "outputs": [
    {
     "name": "stdout",
     "output_type": "stream",
     "text": [
      "0\n"
     ]
    }
   ],
   "source": [
    "nums = [4,5,6,7,0,1,2]\n",
    "print(search_min_in_rotated_arr(nums))"
   ]
  },
  {
   "cell_type": "markdown",
   "metadata": {},
   "source": [
    "### <a id=\"Ex4\">Ex.4 Find in Rotated Array 在旋转数组中搜索 target 值</a>"
   ]
  },
  {
   "cell_type": "code",
   "execution_count": 11,
   "metadata": {
    "collapsed": true
   },
   "outputs": [],
   "source": [
    "# 思路： target 是否在排好序的那部分范围之内来决定去哪一半\n",
    "def search_target_in_rotated_arr(lis, target):\n",
    "    if len(lis) == 0:\n",
    "        return -1\n",
    "\n",
    "    left, right = 0, len(lis) - 1\n",
    "    while left + 1 < right: \n",
    "        mid = left + (right - left) // 2\n",
    "        if lis[mid] == target:\n",
    "            return mid\n",
    "        # 缩小查找范围\n",
    "        if (lis[left] < lis[mid]):                         # 前半部分是排好序的\n",
    "            if lis[left] <= target and target <= lis[mid]: # target 是否在范围之内\n",
    "                right = mid\n",
    "            else:\n",
    "                left = mid\n",
    "        else:                                              # 后半部分是排好序的\n",
    "            if lis[mid] <= target and target <= lis[right]:\n",
    "                left = mid\n",
    "            else:\n",
    "                right = mid\n",
    "                            \n",
    "    if lis[left] == target:\n",
    "        return left\n",
    "    if lis[right] == target:\n",
    "        return right\n",
    "        \n",
    "    return -1"
   ]
  },
  {
   "cell_type": "markdown",
   "metadata": {},
   "source": [
    "### <a id=\"Ex5\">Ex.5 Search Insert Position 找到插入位置</a>\n",
    "\n",
    "Given a sorted array and a target value, return the index if the target is found. If not, return the index where it would be if it were inserted in order. You may assume no duplicates in the array\n",
    "\n",
    "提供一个有序数组和一个 target 目标值，需要找到并返回 target 在数组中的索引。\n",
    "若找不到，返回 target 应该在有序数组中插入的位置索引"
   ]
  },
  {
   "cell_type": "code",
   "execution_count": 12,
   "metadata": {
    "collapsed": true
   },
   "outputs": [],
   "source": [
    "def search_insert_position(lis, target):\n",
    "    if len(lis) == 0:\n",
    "        return 0\n",
    "    \n",
    "    left, right = 0, len(lis) - 1\n",
    "    while left + 1 < right:\n",
    "        mid = left + (right - left) // 2\n",
    "        if lis[mid] == target:\n",
    "            return mid\n",
    "        # 缩小查找范围\n",
    "        if (lis[mid] < target):\n",
    "            left = mid\n",
    "        else:\n",
    "            right = mid\n",
    "            \n",
    "    if lis[left] >= target: # 一定要先判断 left\n",
    "        return left\n",
    "    if lis[right] >= target:\n",
    "        return right\n",
    "        \n",
    "    return right + 1    # 数组内没有比 target 大的元素，所以 target 要插入到最后"
   ]
  },
  {
   "cell_type": "markdown",
   "metadata": {},
   "source": [
    "### <a id=\"Ex6\">Ex.6  Find the starting and ending position of a given target value. 找到 target 区间</a>"
   ]
  },
  {
   "cell_type": "code",
   "execution_count": 3,
   "metadata": {},
   "outputs": [],
   "source": [
    "def search_range(lis, target):\n",
    "    if len(lis) == 0:\n",
    "        return (-1, -1)  \n",
    "    \n",
    "    lbound, rbound = -1, -1         # bound: 边界\n",
    "\n",
    "    # 找到第一个 target\n",
    "    left, right = 0, len(lis) - 1\n",
    "    while left + 1 < right: \n",
    "        mid = left + (right - left) // 2\n",
    "        if lis[mid] == target:\n",
    "            right = mid\n",
    "        elif (lis[mid] < target):\n",
    "            left = mid\n",
    "        else:\n",
    "            right = mid\n",
    "    if lis[left] == target:\n",
    "        lbound = left\n",
    "    elif lis[right] == target:\n",
    "        lbound = right\n",
    "    else:\n",
    "        return (-1, -1)\n",
    "\n",
    "    # 找到最后一个 target\n",
    "    left, right = 0, len(lis) - 1        \n",
    "    while left + 1 < right: \n",
    "        mid = left + (right - left) // 2\n",
    "        if lis[mid] == target:\n",
    "            left = mid\n",
    "        elif (lis[mid] < target):\n",
    "            left = mid\n",
    "        else:\n",
    "            right = mid\n",
    "    if lis[right] == target:  # 注意找最后一个 target 一定要先找右边\n",
    "        rbound = right\n",
    "    elif lis[left] == target:\n",
    "        rbound = left\n",
    "    else:\n",
    "        return (-1, -1)\n",
    "        \n",
    "    return (lbound, rbound)"
   ]
  },
  {
   "cell_type": "code",
   "execution_count": 4,
   "metadata": {},
   "outputs": [
    {
     "data": {
      "text/plain": [
       "(0, 1)"
      ]
     },
     "execution_count": 4,
     "metadata": {},
     "output_type": "execute_result"
    }
   ],
   "source": [
    "lis = [2,2]\n",
    "target = 2\n",
    "search_range(lis, target)"
   ]
  },
  {
   "cell_type": "markdown",
   "metadata": {},
   "source": [
    "### <a id=\"Ex7\">Ex.7 Search in Sorted Array with Empty Strings 含有空字符串的数组中查找值</a>\n",
    "\n",
    "Given a sorted array of strings which is interspersed with empty strings, write a meth­od to find the location of a given string."
   ]
  },
  {
   "cell_type": "code",
   "execution_count": 14,
   "metadata": {
    "collapsed": true
   },
   "outputs": [],
   "source": [
    "# 这道题没有好的解法，最差时间复杂度就是 O(n), 所以可以直接用 in, 可以不用写下面这么复杂的 code\n",
    "def search_empty(lis, target):\n",
    "    if len(lis) == 0:\n",
    "        return -1\n",
    "      \n",
    "    left, right = 0, len(lis) - 1\n",
    "    \n",
    "    while left + 1 < right:\n",
    "        while left + 1 < right and lis[right] == \"\": # 从右边开始找 找到第一个非空字符串所以作为 right\n",
    "            right -= 1\n",
    "        if lis[right] == \"\":\n",
    "            right -= 1\n",
    "        if right < left:\n",
    "            return -1\n",
    "        \n",
    "        mid = left + (right - left) // 2\n",
    "        while lis[mid] == \"\":  # 当中间的值为空字符串时，取后一位的值，直到取到的值不为空\n",
    "            mid += 1\n",
    "            \n",
    "        if lis[mid] == target: # 开始缩小范围\n",
    "            return mid\n",
    "        if lis[mid] < target:\n",
    "            left = mid + 1\n",
    "        else:\n",
    "            right = mid - 1\n",
    "            \n",
    "    if lis[left] == target:\n",
    "        return left\n",
    "    if lis[right] == target:\n",
    "        return right    \n",
    "        \n",
    "    return -1"
   ]
  },
  {
   "cell_type": "markdown",
   "metadata": {},
   "source": [
    "### <a id=\"Ex8\">Ex.8 Search 1st Position of element in Infinite Array 无限序列</a>"
   ]
  },
  {
   "cell_type": "code",
   "execution_count": 9,
   "metadata": {},
   "outputs": [],
   "source": [
    "def search_first(lis):\n",
    "    left, right = 0, 1\n",
    "    \n",
    "    while lis[right] == 0:\n",
    "        left = right\n",
    "        right *= 2\n",
    "        \n",
    "        if (right > len(lis)):\n",
    "            right = len(lis) - 1\n",
    "            break\n",
    "    \n",
    "    return left + search_range(lis[left:right+1], 1)[0]"
   ]
  },
  {
   "cell_type": "code",
   "execution_count": 10,
   "metadata": {},
   "outputs": [
    {
     "data": {
      "text/plain": [
       "5"
      ]
     },
     "execution_count": 10,
     "metadata": {},
     "output_type": "execute_result"
    }
   ],
   "source": [
    "alist = [0, 0, 0, 0, 0, 1]\n",
    "search_first(alist)"
   ]
  }
 ],
 "metadata": {
  "kernelspec": {
   "display_name": "Python 3",
   "language": "python",
   "name": "python3"
  },
  "language_info": {
   "codemirror_mode": {
    "name": "ipython",
    "version": 3
   },
   "file_extension": ".py",
   "mimetype": "text/x-python",
   "name": "python",
   "nbconvert_exporter": "python",
   "pygments_lexer": "ipython3",
   "version": "3.6.1"
  }
 },
 "nbformat": 4,
 "nbformat_minor": 2
}
