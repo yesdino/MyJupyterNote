{
 "cells": [
  {
   "cell_type": "markdown",
   "metadata": {
    "run_control": {
     "frozen": false,
     "read_only": false
    }
   },
   "source": [
    "# Divide and Conquer"
   ]
  },
  {
   "cell_type": "code",
   "execution_count": 18,
   "metadata": {},
   "outputs": [],
   "source": [
    "import time\n",
    "import random\n",
    "from random import randint\n",
    "import sys\n",
    "\n",
    "import matplotlib.pyplot as plt\n",
    "%matplotlib inline  \n",
    "\n",
    "# 下面的程序用这个函数随机生成数组\n",
    "def generate_random_array(n):\n",
    "    return [randint(1, 3 * n) for e in range(n)]"
   ]
  },
  {
   "cell_type": "markdown",
   "metadata": {},
   "source": [
    "**我们已经见过的Divide and Conquer相关的问题：**\n",
    "\n",
    "- Binary Search 二分查找\n",
    "- Merge Sort    归并排序\n",
    "- Quick Sort    快速排序\n",
    "\n",
    "The divide-and-conquer strategy solves a problem by:\n",
    "1. Breaking it into subproblems that are themselves smaller instances of the same type of problem\n",
    "2. Recursively solving these subproblems\n",
    "3. Appropriately combining their answers\n",
    "\n",
    "The real work is done piecemeal, in three different places: \n",
    "- in the partitioning of problems into subproblems; \n",
    "- at the very tail end of the recursion, when the subproblems are so small that they are solved outright; \n",
    "- and in the gluing together of partial answers.\n",
    "\n",
    "These are held together and coordinated by the algorithm’s core recursive structure."
   ]
  },
  {
   "cell_type": "markdown",
   "metadata": {},
   "source": [
    "In this lecture, you will learn:\n",
    "\n",
    "<a href='#Ex1'>Ex.1 Find Medium / Find kth Element</a>  查找中值 / 查找第 K 个元素\n",
    "\n",
    "<a href='#Ex2'>Ex.2 Fast Power</a>  快速计算指数 x 的 n 次幂\n",
    "\n",
    "<a href='#Ex3'>Ex.3 Search Peak Element</a>  搜索任意一个峰值\n",
    "\n",
    "<a href='#Ex4'>Ex.4 Find index of an extra element present in one sorted array</a>  在已排序数组中找到多余元素的索引\n",
    "\n",
    "<a href='#Ex5'>Ex.5 Maximum Sum Subarray</a>  加和值最大的子序列\n",
    "\n",
    "<a href='#Ex6'>Ex.6 Count Inversions</a>  计算逆序对"
   ]
  },
  {
   "cell_type": "markdown",
   "metadata": {
    "run_control": {
     "frozen": false,
     "read_only": false
    }
   },
   "source": [
    "### <a id='Ex1'>Ex.1: Find Medium / Find kth Element</a>   查找中值 / 查找第 K 个元素\n",
    "\n",
    "See Document.\n",
    "\n",
    "注意这两个题目其实是同一个问题：在求K个元素的函数中将 K=len(nums)//2 就可以用来求中值"
   ]
  },
  {
   "cell_type": "code",
   "execution_count": 19,
   "metadata": {},
   "outputs": [],
   "source": [
    "# 解法 1：直接先排序，在找中值 or 第 K 个元素\n",
    "# O(nlgn) time\n",
    "def findKthLargest1(nums, k):\n",
    "    start = time.time()\n",
    "    rst = sorted(nums, reverse=True)   # 先排序\n",
    "    t = time.time() - start\n",
    "    return rst[k-1], len(rst), t"
   ]
  },
  {
   "cell_type": "code",
   "execution_count": 20,
   "metadata": {},
   "outputs": [
    {
     "name": "stdout",
     "output_type": "stream",
     "text": [
      "[6, 9, 14, 13, 10, 6]\n"
     ]
    },
    {
     "data": {
      "text/plain": [
       "(10, 6, 5.4836273193359375e-06)"
      ]
     },
     "execution_count": 20,
     "metadata": {},
     "output_type": "execute_result"
    }
   ],
   "source": [
    "numbers = generate_random_array(6)\n",
    "print(numbers)\n",
    "m = findKthLargest1(numbers, len(numbers)//2)  # k = len(nums)//2\n",
    "m"
   ]
  },
  {
   "cell_type": "code",
   "execution_count": 22,
   "metadata": {},
   "outputs": [],
   "source": [
    "random_lists = [generate_random_array(1000 * n) for n in range(1, 21)]"
   ]
  },
  {
   "cell_type": "code",
   "execution_count": 23,
   "metadata": {},
   "outputs": [
    {
     "data": {
      "text/plain": [
       "[(1509, 1000, 0.0002624988555908203),\n",
       " (3015, 2000, 0.0005817413330078125),\n",
       " (4421, 3000, 0.0008306503295898438),\n",
       " (6215, 4000, 0.0012798309326171875),\n",
       " (7282, 5000, 0.0014445781707763672),\n",
       " (8703, 6000, 0.0057964324951171875),\n",
       " (10523, 7000, 0.002281665802001953),\n",
       " (12031, 8000, 0.002464771270751953),\n",
       " (13551, 9000, 0.0028772354125976562),\n",
       " (14743, 10000, 0.0031440258026123047),\n",
       " (16559, 11000, 0.003491640090942383),\n",
       " (18162, 12000, 0.00395512580871582),\n",
       " (19444, 13000, 0.004330635070800781),\n",
       " (20877, 14000, 0.004650115966796875),\n",
       " (22377, 15000, 0.00503849983215332),\n",
       " (24176, 16000, 0.006037712097167969),\n",
       " (25382, 17000, 0.006587982177734375),\n",
       " (27398, 18000, 0.007607221603393555),\n",
       " (28443, 19000, 0.007085561752319336),\n",
       " (30175, 20000, 0.007677555084228516)]"
      ]
     },
     "execution_count": 23,
     "metadata": {},
     "output_type": "execute_result"
    }
   ],
   "source": [
    "rst = [findKthLargest1(l, len(l)//2) for l in random_lists]\n",
    "rst"
   ]
  },
  {
   "cell_type": "code",
   "execution_count": 24,
   "metadata": {},
   "outputs": [
    {
     "data": {
      "text/plain": [
       "[<matplotlib.lines.Line2D at 0x7fca5bbb4358>]"
      ]
     },
     "execution_count": 24,
     "metadata": {},
     "output_type": "execute_result"
    },
    {
     "data": {
      "image/png": "[encoded data removed]",
      "text/plain": [
       "<Figure size 432x288 with 1 Axes>"
      ]
     },
     "metadata": {
      "needs_background": "light"
     },
     "output_type": "display_data"
    }
   ],
   "source": [
    "x = list(zip(*rst))[1]\n",
    "y = list(zip(*rst))[2]\n",
    "\n",
    "plt.plot(x, y)  # 解法 1 时间复杂度"
   ]
  },
  {
   "cell_type": "code",
   "execution_count": 25,
   "metadata": {},
   "outputs": [],
   "source": [
    "# 解法 2：冒泡排序\n",
    "# O(nk) time, bubble sort idea, TLE\n",
    "def findKthLargest2(nums, k):\n",
    "    start = time.time()\n",
    "    for i in range(k):\n",
    "        for j in range(len(nums)-i-1):\n",
    "            if nums[j] > nums[j+1]:\n",
    "                nums[j], nums[j+1] = nums[j+1], nums[j]  # exchange elements, time consuming\n",
    "    t = time.time() - start\n",
    "    return nums[len(nums)-k], len(nums), t"
   ]
  },
  {
   "cell_type": "code",
   "execution_count": 26,
   "metadata": {},
   "outputs": [
    {
     "data": {
      "text/plain": [
       "[(2967, 1000, 0.002607107162475586),\n",
       " (5981, 2000, 0.009798526763916016),\n",
       " (8956, 3000, 0.007230520248413086),\n",
       " (11983, 4000, 0.009639501571655273),\n",
       " (14981, 5000, 0.0124053955078125),\n",
       " (17948, 6000, 0.015862226486206055),\n",
       " (20984, 7000, 0.019772768020629883),\n",
       " (23961, 8000, 0.022253036499023438),\n",
       " (26956, 9000, 0.02754831314086914),\n",
       " (29978, 10000, 0.027291297912597656),\n",
       " (32972, 11000, 0.02968764305114746),\n",
       " (35985, 12000, 0.031311988830566406),\n",
       " (38973, 13000, 0.03423762321472168),\n",
       " (41973, 14000, 0.03766036033630371),\n",
       " (44971, 15000, 0.0397646427154541),\n",
       " (47958, 16000, 0.040908098220825195),\n",
       " (50982, 17000, 0.04537701606750488),\n",
       " (53971, 18000, 0.04758000373840332),\n",
       " (56968, 19000, 0.052535295486450195),\n",
       " (59968, 20000, 0.0552825927734375)]"
      ]
     },
     "execution_count": 26,
     "metadata": {},
     "output_type": "execute_result"
    }
   ],
   "source": [
    "rst = [findKthLargest2(l, len(random_lists)//2) for l in random_lists]\n",
    "rst"
   ]
  },
  {
   "cell_type": "code",
   "execution_count": 27,
   "metadata": {},
   "outputs": [
    {
     "data": {
      "text/plain": [
       "[<matplotlib.lines.Line2D at 0x7fca5b4e5048>]"
      ]
     },
     "execution_count": 27,
     "metadata": {},
     "output_type": "execute_result"
    },
    {
     "data": {
      "image/png": "[encoded data removed]",
      "text/plain": [
       "<Figure size 432x288 with 1 Axes>"
      ]
     },
     "metadata": {
      "needs_background": "light"
     },
     "output_type": "display_data"
    }
   ],
   "source": [
    "x = list(zip(*rst))[1]\n",
    "y = list(zip(*rst))[2]\n",
    "\n",
    "plt.plot(x, y)  # 解法 2 时间复杂度"
   ]
  },
  {
   "cell_type": "code",
   "execution_count": 32,
   "metadata": {},
   "outputs": [],
   "source": [
    "# O(n) time, quick selection\n",
    "def findKthLargest(lis, k):\n",
    "    # convert the kth largest to smallest\n",
    "    start = time.time()\n",
    "    rst = findKthSmallest(lis, len(lis)+1-k)  # 这里是为了计算时间复杂度，自己写的时候可以不用这样写，直接写下面的函数\n",
    "    t = time.time() - start\n",
    "    return rst, len(lis), t\n",
    "    \n",
    "# 解法 3：分治法 每次 k 都与 base 比较，以此选择下一个子分区 （最优解）\n",
    "# O(n) time, quick selection\n",
    "def findKthSmallest(lis, k):\n",
    "    if lis:\n",
    "        # print(\"---\\nlis: \", lis)\n",
    "        sorted_pivot = partition(lis, 0, len(lis)-1)    # 进行一轮快排\n",
    "        # print(\"lis: \", lis)\n",
    "        # print(\"sorted_pivot: \", sorted_pivot)\n",
    "        # 选择分区 继续递归\n",
    "        if (sorted_pivot + 1) > k:                          # k 是 sorted_pivot + 1 前面的位置\n",
    "            return findKthSmallest(lis[:sorted_pivot], k)   # 到前面去找\n",
    "        elif (sorted_pivot + 1) < k:                        # k 是 sorted_pivot + 1 后面的位置\n",
    "            # k-(sorted_pivot+1): 此时 lis 变成从 sorted_pivot+1 开始，索引要找的位置也要减去 sorted_pivot+1\n",
    "            return findKthSmallest(lis[sorted_pivot+1:], k-(sorted_pivot+1) ) # 到后面去找\n",
    "        else:\n",
    "            return lis[sorted_pivot]\n",
    "\n",
    "# choose the right-most element as pivot\n",
    "# lis 快速排序\n",
    "# 选取最右边的数作为 base, 返回一轮快排过后 base 所排的位置(那个位置为分界，前面是比它小的，后面是比它大的)\n",
    "def partition(lis, left, right):\n",
    "    pivot = left\n",
    "    while left < right:\n",
    "        if lis[left] < lis[right]:\n",
    "            lis[left], lis[pivot] = lis[pivot], lis[left]\n",
    "            pivot += 1    # 排在 pivot 前面的都是比 lis[pivot] 小的原来的 lis[left]\n",
    "        left += 1\n",
    "    lis[pivot], lis[right] = lis[right], lis[pivot]\n",
    "    return pivot"
   ]
  },
  {
   "cell_type": "code",
   "execution_count": 33,
   "metadata": {},
   "outputs": [
    {
     "name": "stdout",
     "output_type": "stream",
     "text": [
      "[9, 2, 10, 11, 11, 5]\n"
     ]
    },
    {
     "data": {
      "text/plain": [
       "(10, 6, 9.059906005859375e-06)"
      ]
     },
     "execution_count": 33,
     "metadata": {},
     "output_type": "execute_result"
    }
   ],
   "source": [
    "numbers = generate_random_array(6)\n",
    "print(numbers)\n",
    "m = findKthLargest(numbers, len(numbers)//2)\n",
    "m"
   ]
  },
  {
   "cell_type": "code",
   "execution_count": null,
   "metadata": {
    "collapsed": true
   },
   "outputs": [],
   "source": [
    "rst = [findKthLargest(l, len(random_lists)//2) for l in random_lists]\n",
    "rst"
   ]
  },
  {
   "cell_type": "code",
   "execution_count": null,
   "metadata": {
    "collapsed": true
   },
   "outputs": [],
   "source": [
    "x = list(zip(*rst))[1]\n",
    "y = list(zip(*rst))[2]\n",
    "\n",
    "plt.plot(x, y)"
   ]
  },
  {
   "cell_type": "code",
   "execution_count": null,
   "metadata": {
    "collapsed": true
   },
   "outputs": [],
   "source": [
    "l = generate_random_array(1000000)"
   ]
  },
  {
   "cell_type": "code",
   "execution_count": null,
   "metadata": {
    "collapsed": true
   },
   "outputs": [],
   "source": [
    "r = findKthLargest1(l, len(l)//2)\n",
    "r"
   ]
  },
  {
   "cell_type": "code",
   "execution_count": null,
   "metadata": {
    "collapsed": true
   },
   "outputs": [],
   "source": [
    "r = findKthLargest(l, len(l)//2)\n",
    "r"
   ]
  },
  {
   "cell_type": "markdown",
   "metadata": {},
   "source": [
    "### <a id='Ex2'>Ex.2: Fast Power 快速计算指数 x 的 n 次幂</a>"
   ]
  },
  {
   "cell_type": "code",
   "execution_count": 36,
   "metadata": {},
   "outputs": [],
   "source": [
    "# flaw:有问题的程序 没有考虑 n 为负数的情况\n",
    "def fast_power_flaw(x, n):\n",
    "    if n <= 0:\n",
    "        return 1\n",
    "    elif n == 1:\n",
    "        return x\n",
    "    # 奇数偶数判断\n",
    "    if n % 2:\n",
    "        return fast_power_flaw(x * x, n // 2) * x   # 递归写法的好处：与思维思路比较接近； 缺点：会慢一些\n",
    "    else:\n",
    "        return fast_power_flaw(x * x, n // 2) "
   ]
  },
  {
   "cell_type": "code",
   "execution_count": 39,
   "metadata": {},
   "outputs": [
    {
     "name": "stdout",
     "output_type": "stream",
     "text": [
      "25\n",
      "1\n",
      "1\n",
      "0\n",
      "1\n",
      "1\n"
     ]
    }
   ],
   "source": [
    "print( fast_power_flaw(5, 2) )   # 25\n",
    "print( fast_power_flaw(5, 0) )   # 1\n",
    "print( fast_power_flaw(5, -2) )  # 1 flaw 没有考虑 n 为负数的情况\n",
    "print( fast_power_flaw(0, 2) )   # 0\n",
    "print( fast_power_flaw(0, 0) )   # 1 flaw\n",
    "print( fast_power_flaw(0, -2) )  # 1 flaw"
   ]
  },
  {
   "cell_type": "code",
   "execution_count": 48,
   "metadata": {},
   "outputs": [],
   "source": [
    "def fast_power(x, n):\n",
    "    if x == 0:     # 这是自己加的，没有这个条件后面递归回来的时候会报错\n",
    "        return 0\n",
    "    if n == 0:\n",
    "        return 1.0\n",
    "    elif n < 0:     # n 为负数，返回其倒数\n",
    "        return 1 / fast_power(x, -n)\n",
    "    # 奇数偶数判断\n",
    "    if n % 2:\n",
    "        return fast_power(x * x, n // 2) * x\n",
    "    else:\n",
    "        return fast_power(x * x, n // 2)"
   ]
  },
  {
   "cell_type": "code",
   "execution_count": 49,
   "metadata": {},
   "outputs": [
    {
     "name": "stdout",
     "output_type": "stream",
     "text": [
      "25.0\n",
      "1.0\n",
      "0.04\n",
      "0\n",
      "0\n",
      "0\n"
     ]
    }
   ],
   "source": [
    "print( fast_power(5, 2) )   # 25\n",
    "print( fast_power(5, 0) )   # 1\n",
    "print( fast_power(5, -2) )  # 1 flaw 没有考虑 n 为负数的情况\n",
    "print( fast_power(0, 2) )   # 0\n",
    "print( fast_power(0, 0) )   # 1 flaw\n",
    "print( fast_power(0, -2) )  # 1 flaw"
   ]
  },
  {
   "cell_type": "markdown",
   "metadata": {},
   "source": [
    "### <a id='Ex3'>Ex.3: Search Peak Element 搜索任意一个峰值</a>\n",
    "\n",
    "The array has no duplicates, may contain multiple peaks, return the index to any one of the peaks.\n",
    "\n",
    "数组没有重复值，但可能存在多个峰值，返回任意一个峰值的索引\n",
    "\n",
    "You may imagine that num[-1] = num[n] = -∞. "
   ]
  },
  {
   "cell_type": "code",
   "execution_count": 9,
   "metadata": {
    "collapsed": true
   },
   "outputs": [],
   "source": [
    "def search_peak(lis):\n",
    "    return peak_helper(lis, 0, len(lis) - 1)\n",
    "\n",
    "def peak_helper(lis, start, end):\n",
    "    if start == end:    # 找到了\n",
    "        return start\n",
    "    \n",
    "    if (start + 1 == end):  # left right 相邻，到最底层了\n",
    "        if lis[start] > lis[end]:\n",
    "            return start\n",
    "        return end\n",
    "    \n",
    "    mid = (start + end) // 2\n",
    "    if lis[mid] > lis[mid - 1] and lis[mid] > lis[mid + 1]: # 凸 峰值\n",
    "        return mid\n",
    "    if lis[mid - 1] > lis[mid] and lis[mid] > lis[mid + 1]: # 下降 到左半边找\n",
    "        return peak_helper(lis, start, mid - 1)\n",
    "    else:                                                   # 上升 or 凹(两边都可)\n",
    "        return peak_helper(lis, mid + 1, end)"
   ]
  },
  {
   "cell_type": "markdown",
   "metadata": {},
   "source": [
    "### <a id='Ex4'>Ex.4: Find index of an extra element present in one sorted array 在已排序数组中找到多余元素的索引</a>\n",
    "\n",
    "Given two sorted arrays. \n",
    "\n",
    "There is only 1 difference between the arrays. First array has one element extra added in between. \n",
    "\n",
    "Find the *index* of the extra element.\n",
    "\n",
    "给定两个已经排好序的数组。\n",
    "\n",
    "这两个数组只有一个不同的地方：在第一个数组某个位置上多了一个元素，请找到这个元素的索引位置。\n",
    "\n",
    "例:\n",
    "\n",
    "Input : {2, 4, 6, 8, 9, 10, 12};\n",
    "        {2, 4, 6, 8, 10, 12};\n",
    "        \n",
    "Output : 4\n",
    "\n",
    "The first array has an extra element 9.\n",
    "\n",
    "The extra element is present at index 4.\n",
    "\n",
    "例:\n",
    "\n",
    "Input :  {3, 5, 7, 9, 11, 13}\n",
    "         {3, 5, 7, 11, 13}\n",
    "         \n",
    "Output :  3"
   ]
  },
  {
   "cell_type": "code",
   "execution_count": 50,
   "metadata": {},
   "outputs": [],
   "source": [
    "## Returns index of extra element in arr1[].\n",
    "# O(n*n) bad\n",
    "def find_extra(arr1, arr2):\n",
    "    for i in range(len(arr2)):\n",
    "        if (arr1[i] != arr2[i]):\n",
    "            return i\n",
    " \n",
    "    return len(arr1)-1"
   ]
  },
  {
   "cell_type": "code",
   "execution_count": 56,
   "metadata": {},
   "outputs": [],
   "source": [
    "# good 二分搜索\n",
    "def find_extra_fast(arr1, arr2):\n",
    "    idx = len(arr2)\n",
    "    left, right = 0, len(arr2) - 1\n",
    "    while (left <= right):\n",
    "        mid = (left + right) // 2\n",
    "        if (arr2[mid] == arr1[mid]):\n",
    "            left = mid + 1  # 前半部分都相等 target 在后半部分\n",
    "        else:\n",
    "            idx = mid\n",
    "            right = mid - 1 # target 在前半部分\n",
    "    return idx"
   ]
  },
  {
   "cell_type": "code",
   "execution_count": 57,
   "metadata": {},
   "outputs": [
    {
     "name": "stdout",
     "output_type": "stream",
     "text": [
      "4\n",
      "3\n",
      "6\n",
      "0\n",
      "0\n"
     ]
    }
   ],
   "source": [
    "ar1 = [2, 4, 6, 8, 9, 10, 12]\n",
    "ar2 = [2, 4, 6, 8, 10, 12]\n",
    "print( find_extra_fast(ar1, ar2) )   # 4\n",
    "\n",
    "ar1 = [3, 5, 7, 9, 11, 13]\n",
    "ar2 = [3, 5, 7, 11, 13]\n",
    "print( find_extra_fast(ar1, ar2) )   # 3\n",
    "\n",
    "ar1 = [3, 5, 7, 9, 11, 13, 16]\n",
    "ar2 = [3, 5, 7, 9, 11, 13]\n",
    "print( find_extra_fast(ar1, ar2) )   # 6\n",
    "\n",
    "ar1 = [1, 3, 5, 7, 9, 11, 13]\n",
    "ar2 = [3, 5, 7, 9, 11, 13]\n",
    "print( find_extra_fast(ar1, ar2) )   # 0\n",
    "\n",
    "ar1 = [1]\n",
    "ar2 = []\n",
    "print( find_extra_fast(ar1, ar2) )   # 0"
   ]
  },
  {
   "cell_type": "markdown",
   "metadata": {},
   "source": [
    "### <a id='Ex5'>Ex.5: Maximum Sum Subarray 加和值最大的子序列</a>\n",
    "\n",
    "Find the sum of contiguous subarray within a one-dimensional array of numbers which has the largest sum.\n",
    "\n",
    "在一个一位数组中找到连续的子序列，且这个子序列的加和值最大\n",
    "\n",
    "例如：\n",
    "num = [-2, 1, -3, 4, -1, 2, 1, -5, 4], 其最大加和值序列为 [4, -1, 2, 1], 其加和值为 6\n",
    "\n",
    "<img src=\"../images/ch06/maxsubarraysum.png\" width=\"320\"/>\n"
   ]
  },
  {
   "cell_type": "code",
   "execution_count": 9,
   "metadata": {},
   "outputs": [],
   "source": [
    "# O(n^2)\n",
    "def subarray1(alist):\n",
    "    result = -sys.maxsize\n",
    "    for i in range(0, len(alist)):\n",
    "        sum = 0\n",
    "        for j in range (i, len(alist)):\n",
    "            sum += alist[j]\n",
    "            if sum > result:\n",
    "                result = sum\n",
    "    return result"
   ]
  },
  {
   "cell_type": "code",
   "execution_count": 9,
   "metadata": {},
   "outputs": [
    {
     "data": {
      "text/plain": [
       "7"
      ]
     },
     "execution_count": 9,
     "metadata": {},
     "output_type": "execute_result"
    }
   ],
   "source": [
    "alist = [-2,-3,4,-1,-2,1,5,-3]\n",
    "subarray1(alist)"
   ]
  },
  {
   "cell_type": "code",
   "execution_count": 12,
   "metadata": {},
   "outputs": [],
   "source": [
    "import sys\n",
    "\n",
    "# O(nlgn) 经典解法，分治法\n",
    "def subarray2(alist):\n",
    "    return subarray2_helper(alist, 0, len(alist)-1)\n",
    "\n",
    "def subarray2_helper(alist, left, right):\n",
    "    if (left == right):\n",
    "        return alist[left]\n",
    "    mid = (left + right) // 2\n",
    "    return max(subarray2_helper(alist, left, mid), \n",
    "               subarray2_helper(alist, mid+1, right), \n",
    "               maxcrossing(alist, left, mid, right))\n",
    "\n",
    "def maxcrossing(alist, left, mid, right):\n",
    "    sum = 0\n",
    "    left_sum = -sys.maxsize\n",
    "    for i in range (mid, left-1, -1):\n",
    "        sum += alist[i]\n",
    "        if (sum > left_sum):\n",
    "            left_sum = sum\n",
    "    sum = 0\n",
    "    right_sum = -sys.maxsize\n",
    "    for i in range (mid+1, right+1):\n",
    "        sum += alist[i]\n",
    "        if (sum > right_sum):\n",
    "            right_sum = sum        \n",
    "    return left_sum + right_sum\n"
   ]
  },
  {
   "cell_type": "code",
   "execution_count": 13,
   "metadata": {},
   "outputs": [
    {
     "data": {
      "text/plain": [
       "7"
      ]
     },
     "execution_count": 13,
     "metadata": {},
     "output_type": "execute_result"
    }
   ],
   "source": [
    "alist = [-2,-3,4,-1,-2,1,5,-3]\n",
    "subarray2(alist)"
   ]
  },
  {
   "cell_type": "code",
   "execution_count": 16,
   "metadata": {},
   "outputs": [],
   "source": [
    "# O(n) 动态规划\n",
    "def subarray3(alist):\n",
    "    result = -sys.maxsize\n",
    "    local = 0\n",
    "    for item in alist:\n",
    "        local = max(item, local + item)\n",
    "        result = max(result, local)\n",
    "    return result"
   ]
  },
  {
   "cell_type": "code",
   "execution_count": 17,
   "metadata": {},
   "outputs": [
    {
     "data": {
      "text/plain": [
       "7"
      ]
     },
     "execution_count": 17,
     "metadata": {},
     "output_type": "execute_result"
    }
   ],
   "source": [
    "alist = [-2,-3,4,-1,-2,1,5,-3]\n",
    "subarray3(alist)"
   ]
  },
  {
   "cell_type": "code",
   "execution_count": null,
   "metadata": {
    "collapsed": true
   },
   "outputs": [],
   "source": []
  },
  {
   "cell_type": "markdown",
   "metadata": {},
   "source": [
    "### <a id='Ex6'>Ex.6: Count Inversions 计算逆序对</a>\n",
    "\n",
    "**Define the number of inversion**\n",
    "\n",
    "    i, j form an inversion if a[i] > a[j] for any i < j, that is, \n",
    "   if the two elements a[i] and a[j] are \"out of order\".\n"
   ]
  },
  {
   "cell_type": "code",
   "execution_count": 12,
   "metadata": {},
   "outputs": [
    {
     "name": "stdout",
     "output_type": "stream",
     "text": [
      "Number of inversions are 5\n"
     ]
    }
   ],
   "source": [
    "# O(n^2)\n",
    "def countInv(arr):\n",
    "    n = len(arr)\n",
    "    inv_count = 0\n",
    "    for i in range(n):\n",
    "        for j in range(i+1, n):\n",
    "            if (arr[i] > arr[j]):\n",
    "                inv_count += 1\n",
    " \n",
    "    return inv_count\n",
    " \n",
    "arr = [1, 20, 6, 4, 5]\n",
    "n = len(arr)\n",
    "print(\"Number of inversions are\", countInv(arr))"
   ]
  },
  {
   "cell_type": "code",
   "execution_count": 5,
   "metadata": {},
   "outputs": [],
   "source": [
    "# ---------------------- 【 计算逆序对 】 -----------------------\n",
    "# 【治】 合并 + 计算逆序对\n",
    "def merge(left_part, right_part):     \n",
    "    ret_lis = list()                    # 要返回的合并后的有序序列\n",
    "    inv_count = 0                       # 逆序对的数量\n",
    "    i, j = 0, 0                         # i,j 分别作为 left_part, right_part 的索引\n",
    "    while i < len(left_part) and j < len(right_part):\n",
    "        if left_part[i] < right_part[j]:\n",
    "            ret_lis.append(left_part[i])\n",
    "            i += 1\n",
    "        elif left_part[i] > right_part[j]:\n",
    "            ret_lis.append(right_part[j])\n",
    "            j += 1\n",
    "            inv_count += (len(left_part)-i)  # 逆序对 \n",
    "\n",
    "    ret_lis += left_part[i:]\n",
    "    ret_lis += right_part[j:]\n",
    "    return ret_lis, inv_count\n",
    "\n",
    "#归并排序的方法：分治\n",
    "# O(nlgn)\n",
    "def countInvFast(array):\n",
    "    if len(array) < 2:                          #【分】 分分分分分 分到只剩一个\n",
    "        return array, 0\n",
    "    mid = len(array) // 2\n",
    "    left_part, inv_left = countInvFast(array[:mid]) # mid 前半部分前部先递归然后出来\n",
    "    right_part,inv_right = countInvFast(array[mid:])# 前半部分做完，每一层出来的时候做后半部分\n",
    "    ret_lis, count = merge(left_part, right_part)   #【治】 合并 + 计算逆序对\n",
    "    count += (inv_left + inv_right)\n",
    "    return ret_lis, count"
   ]
  },
  {
   "cell_type": "code",
   "execution_count": 6,
   "metadata": {},
   "outputs": [
    {
     "name": "stdout",
     "output_type": "stream",
     "text": [
      "Number of inversions are ([1, 4, 5, 6, 20], 5)\n"
     ]
    }
   ],
   "source": [
    "arr = [1, 20, 6, 4, 5]\n",
    "n = len(arr)\n",
    "print(\"Number of inversions are\", countInvFast(arr))"
   ]
  },
  {
   "cell_type": "code",
   "execution_count": null,
   "metadata": {
    "collapsed": true
   },
   "outputs": [],
   "source": []
  }
 ],
 "metadata": {
  "kernelspec": {
   "display_name": "Python 3",
   "language": "python",
   "name": "python3"
  },
  "language_info": {
   "codemirror_mode": {
    "name": "ipython",
    "version": 3
   },
   "file_extension": ".py",
   "mimetype": "text/x-python",
   "name": "python",
   "nbconvert_exporter": "python",
   "pygments_lexer": "ipython3",
   "version": "3.6.1"
  }
 },
 "nbformat": 4,
 "nbformat_minor": 2
}
