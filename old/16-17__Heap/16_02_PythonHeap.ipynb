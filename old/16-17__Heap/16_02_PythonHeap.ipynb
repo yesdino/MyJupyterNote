{
 "cells": [
  {
   "cell_type": "markdown",
   "metadata": {},
   "source": [
    "# Python Heap #"
   ]
  },
  {
   "cell_type": "markdown",
   "metadata": {},
   "source": [
    "heaqp module provides an implementation of the heap queue algorithm, also known as the priority queue algorithm.\n",
    "\n",
    "To create a heap, use a list initialized to [], or you can transform a populated list into a heap via function heapify().\n",
    "\n",
    "The following functions are provided:\n",
    "\n",
    "- `heapq.heappush(heap, item)`\n",
    "\n",
    "    Push the value item onto the heap, maintaining the heap invariant.\n",
    "    \n",
    "\n",
    "- `heapq.heappop(heap)`\n",
    "\n",
    "    Pop and return the smallest item from the heap, maintaining the heap invariant. If the heap is empty, IndexError is raised.\n",
    "    \n",
    "\n",
    "- `heapq.heappushpop(heap, item)`\n",
    "\n",
    "    Push item on the heap, then pop and return the smallest item from the heap. The combined action runs more efficiently than heappush() followed by a separate call to heappop().\n",
    "    \n",
    "\n",
    "- `heapq.heapify(x)`\n",
    "\n",
    "    Transform list x into a heap, in-place, in linear time.\n",
    "\n",
    "\n",
    "- `heapq.heapreplace(heap, item)`\n",
    "\n",
    "    Pop and return the smallest item from the heap, and also push the new item. The heap size doesn’t change. If the heap is empty, IndexError is raised. This is more efficient than heappop() followed by heappush(), and can be more appropriate when using a fixed-size heap. Note that the value returned may be larger than item! That constrains reasonable uses of this routine unless written as part of a conditional replacement:\n",
    "\n",
    "    if item > heap[0]: item = heapreplace(heap, item)"
   ]
  },
  {
   "cell_type": "markdown",
   "metadata": {
    "collapsed": true
   },
   "source": [
    "创建堆有两种方式，\n",
    "- `heappush()`: 创建一个数组作为堆的容器，然后一个一个值添加到堆中\n",
    "- `heapify()`:  将一个数组直接结构化为堆"
   ]
  },
  {
   "cell_type": "markdown",
   "metadata": {
    "collapsed": true
   },
   "source": [
    "### Example\n",
    "\n",
    "#### heappush 堆中添加元素"
   ]
  },
  {
   "cell_type": "code",
   "execution_count": 2,
   "metadata": {},
   "outputs": [],
   "source": [
    "from heapq import heappush, heappop"
   ]
  },
  {
   "cell_type": "code",
   "execution_count": 2,
   "metadata": {},
   "outputs": [
    {
     "data": {
      "text/plain": [
       "[0, 1, 2, 3, 4, 5, 6, 7, 8, 9]"
      ]
     },
     "execution_count": 2,
     "metadata": {},
     "output_type": "execute_result"
    }
   ],
   "source": [
    "heap = []\n",
    "data = [1, 3, 5, 7, 9, 2, 4, 6, 8, 0]\n",
    "for item in data:\n",
    "    heappush(heap, item)\n",
    "\n",
    "ordered = []\n",
    "while heap:\n",
    "    ordered.append(heappop(heap))\n",
    "\n",
    "ordered\n",
    "[0, 1, 2, 3, 4, 5, 6, 7, 8, 9]\n"
   ]
  },
  {
   "cell_type": "code",
   "execution_count": 3,
   "metadata": {},
   "outputs": [
    {
     "data": {
      "text/plain": [
       "True"
      ]
     },
     "execution_count": 3,
     "metadata": {},
     "output_type": "execute_result"
    }
   ],
   "source": [
    "data.sort()\n",
    "data == ordered"
   ]
  },
  {
   "cell_type": "markdown",
   "metadata": {},
   "source": [
    "#### heapify 将数组直接变成堆"
   ]
  },
  {
   "cell_type": "code",
   "execution_count": 3,
   "metadata": {},
   "outputs": [
    {
     "name": "stdout",
     "output_type": "stream",
     "text": [
      "[1, 2, 3, 5, 8, 5]\n",
      "1\n",
      "[2, 5, 3, 5, 8]\n",
      "2\n",
      "[3, 5, 8, 5]\n",
      "3\n",
      "[5, 5, 8]\n",
      "5\n",
      "[5, 8]\n",
      "5\n",
      "[8]\n",
      "8\n"
     ]
    }
   ],
   "source": [
    "import heapq\n",
    "\n",
    "data = [1,5,3,2,8,5]\n",
    "heapq.heapify(data)\n",
    "data\n",
    "\n",
    "while data:\n",
    "    print(data)\n",
    "    print(heappop(data))\n"
   ]
  },
  {
   "cell_type": "markdown",
   "metadata": {},
   "source": [
    "### Tuples 将元祖作为 heap item\n",
    "\n",
    "如果没有指定，默认是用元祖的第一个元素来判断大小\n",
    "\n",
    "The priority queue can store objects such as tuples:\n",
    "\n",
    "Using a heap to insert items at the correct place in a priority queue:"
   ]
  },
  {
   "cell_type": "code",
   "execution_count": 4,
   "metadata": {},
   "outputs": [
    {
     "name": "stdout",
     "output_type": "stream",
     "text": [
      "1 :  J\n",
      "2 :  O\n",
      "3 :  H\n",
      "4 :  N\n"
     ]
    }
   ],
   "source": [
    "heap = []\n",
    "data = [(1, 'J'), (4, 'N'), (3, 'H'), (2, 'O')]  # 如果没有指定，默认是用元祖的第一个元素来判断大小\n",
    "for item in data:\n",
    "    heappush(heap, item)\n",
    "\n",
    "while heap:\n",
    "    item = heappop(heap) \n",
    "    print(item[0], \": \", item[1])"
   ]
  },
  {
   "cell_type": "markdown",
   "metadata": {},
   "source": [
    "### More Functions 其他方法\n",
    "\n",
    "The module also offers three general purpose functions based on heaps.\n",
    "\n",
    "- `heapq.merge(*iterables)`\n",
    "\n",
    "    Merge multiple sorted inputs into a single sorted output (for example, merge timestamped entries from multiple log files). Returns an iterator over the sorted values.\n",
    "\n",
    "    Similar to sorted(itertools.chain(*iterables)) but returns an iterable, does not pull the data into memory all at once, and assumes that each of the input streams is already sorted (smallest to largest).\n",
    "\n",
    "\n",
    "- `heapq.nlargest(n, iterable[, key])`: 找到前 n 大\n",
    "\n",
    "    Return a list with the n largest elements from the dataset defined by iterable. key, if provided, specifies a function of one argument that is used to extract a comparison key from each element in the iterable: key=str.lower Equivalent to: sorted(iterable, key=key, reverse=True)[:n]\n",
    "\n",
    "\n",
    "- `heapq.nsmallest(n, iterable[, key])`：找到前 n 小\n",
    "\n",
    "    Return a list with the n smallest elements from the dataset defined by iterable. key, if provided, specifies a function of one argument that is used to extract a comparison key from each element in the iterable: key=str.lower Equivalent to: sorted(iterable, key=key)[:n]\n",
    "\n",
    "The latter two functions perform best for smaller values of n. For larger values, it is more efficient to use the sorted() function. Also, when n==1, it is more efficient to use the builtin min() and max() functions."
   ]
  },
  {
   "cell_type": "markdown",
   "metadata": {},
   "source": [
    "#### nlargest"
   ]
  },
  {
   "cell_type": "code",
   "execution_count": 7,
   "metadata": {},
   "outputs": [
    {
     "name": "stdout",
     "output_type": "stream",
     "text": [
      "The 3 largest numbers in list are : [10, 9, 8]\n"
     ]
    }
   ],
   "source": [
    "import heapq\n",
    "li1 = [6, 7, 9, 4, 3, 5, 8, 10, 1]\n",
    "heapq.heapify(li1)\n",
    "print(\"The 3 largest numbers in list are : \",end=\"\")\n",
    "print(heapq.nlargest(3, li1))"
   ]
  },
  {
   "cell_type": "markdown",
   "metadata": {},
   "source": [
    "#### nsmallest"
   ]
  },
  {
   "cell_type": "code",
   "execution_count": 8,
   "metadata": {},
   "outputs": [
    {
     "name": "stdout",
     "output_type": "stream",
     "text": [
      "The 3 smallest numbers in list are : [1, 3, 4]\n"
     ]
    }
   ],
   "source": [
    "print(\"The 3 smallest numbers in list are : \",end=\"\")\n",
    "print(heapq.nsmallest(3, li1))"
   ]
  },
  {
   "cell_type": "markdown",
   "metadata": {},
   "source": [
    "#### 将字典作为 heap item\n",
    "\n",
    "python 可以将各种数据类型放入 heap 中，但是要求 <u>**放入 heap 的类型必须要能够比较大小**</u> (即内部有指定比较大小的 key)"
   ]
  },
  {
   "cell_type": "code",
   "execution_count": 15,
   "metadata": {},
   "outputs": [],
   "source": [
    "portfolio = [\n",
    "    {'name': 'IBM', 'shares': 100, 'price': 91.1},\n",
    "    {'name': 'AAPL', 'shares': 50, 'price': 543.22},\n",
    "    {'name': 'FB', 'shares': 200, 'price': 21.09},\n",
    "    {'name': 'HPQ', 'shares': 35, 'price': 31.75},\n",
    "    {'name': 'YHOO', 'shares': 45, 'price': 16.35},\n",
    "    {'name': 'ACME', 'shares': 75, 'price': 115.65}\n",
    "]\n",
    "\n",
    "cheap = heapq.nsmallest(3, portfolio)\n",
    "cheap  # 会报错，因为你没指定排序的 key (TypeError: '<' not supported between instances of 'dict' and 'dict')"
   ]
  },
  {
   "cell_type": "code",
   "execution_count": 13,
   "metadata": {},
   "outputs": [
    {
     "data": {
      "text/plain": [
       "[{'name': 'YHOO', 'shares': 45, 'price': 16.35},\n",
       " {'name': 'FB', 'shares': 200, 'price': 21.09},\n",
       " {'name': 'HPQ', 'shares': 35, 'price': 31.75}]"
      ]
     },
     "execution_count": 13,
     "metadata": {},
     "output_type": "execute_result"
    }
   ],
   "source": [
    "# 指定排序的 key\n",
    "cheap = heapq.nsmallest(3, portfolio, key=lambda s: s['price'])\n",
    "cheap"
   ]
  },
  {
   "cell_type": "code",
   "execution_count": 28,
   "metadata": {},
   "outputs": [
    {
     "data": {
      "text/plain": [
       "[{'name': 'AAPL', 'price': 543.22, 'shares': 50},\n",
       " {'name': 'ACME', 'price': 115.65, 'shares': 75},\n",
       " {'name': 'IBM', 'price': 91.1, 'shares': 100}]"
      ]
     },
     "execution_count": 28,
     "metadata": {},
     "output_type": "execute_result"
    }
   ],
   "source": [
    "expensive = heapq.nlargest(3, portfolio, key=lambda s: s['price'])\n",
    "expensive"
   ]
  },
  {
   "cell_type": "markdown",
   "metadata": {},
   "source": [
    "### Class Objects 自己的类作为 heap item\n",
    "\n",
    "Python isn't strongly typed, so we can save anything we like: just as we stored a tuple of (priority,thing) in previous section. \n",
    "\n",
    "We can also store class objects if we override `__cmp__()` method:"
   ]
  },
  {
   "cell_type": "code",
   "execution_count": 20,
   "metadata": {},
   "outputs": [],
   "source": [
    "# 复写 __lt__ in Python 3, \n",
    "# 复写 __cmp__ only in Python 2\n",
    "\n",
    "class Skill(object):\n",
    "    \n",
    "    def __init__(self, priority, description):\n",
    "        self.priority = priority\n",
    "        self.description = description\n",
    "        print('New Level:', description)\n",
    "        return\n",
    "    \n",
    "    def __cmp__(self, other):\n",
    "        return cmp(self.priority, other.priority)  # 用 self.priority 来比较大小\n",
    "    \n",
    "    def __lt__(self, other):\n",
    "        return self.priority < other.priority\n",
    "    \n",
    "    def __repr__(self):\n",
    "        return str(self.priority) + \": \" + self.description"
   ]
  },
  {
   "cell_type": "code",
   "execution_count": 23,
   "metadata": {},
   "outputs": [
    {
     "name": "stdout",
     "output_type": "stream",
     "text": [
      "New Level: Proficient\n",
      "New Level: Expert\n",
      "New Level: Novice\n",
      "The 3 largest numbers in list are : [10: Expert, 5: Proficient, 1: Novice]\n",
      "1: Novice\n",
      "5: Proficient\n",
      "10: Expert\n"
     ]
    }
   ],
   "source": [
    "s1 = Skill(5, 'Proficient')\n",
    "s2 = Skill(10, 'Expert')\n",
    "s3 = Skill(1, 'Novice')\n",
    "\n",
    "l = [s1, s2, s3]\n",
    "heapq.heapify(l)\n",
    "print(\"The 3 largest numbers in list are : \", end=\"\")\n",
    "print(heapq.nlargest(3, l))\n",
    "\n",
    "while l:\n",
    "    item = heappop(l) \n",
    "    print(item)"
   ]
  },
  {
   "cell_type": "markdown",
   "metadata": {
    "collapsed": true
   },
   "source": [
    "### 小练习\n",
    "\n",
    "#### 在数组中取每一列前 k 大的元素"
   ]
  },
  {
   "cell_type": "code",
   "execution_count": null,
   "metadata": {},
   "outputs": [],
   "source": [
    "import numpy as np\n",
    "import heapq\n",
    "\n",
    "x = np.array(\n",
    "    [\n",
    "        [1, 2, 3, 4, 5, 6],\n",
    "        [2, 3, 5, 7, 8, 1], \n",
    "        [7, 9, 6, 6, 3, 2], \n",
    "        [8, 9, 0, 1, 4, 7]\n",
    "    ], \n",
    "    np.int32\n",
    ")"
   ]
  },
  {
   "cell_type": "code",
   "execution_count": 30,
   "metadata": {},
   "outputs": [
    {
     "name": "stdout",
     "output_type": "stream",
     "text": [
      "6\n",
      "[7, 8]\n",
      "[9, 9]\n",
      "[5, 6]\n",
      "[6, 7]\n",
      "[5, 8]\n",
      "[6, 7]\n"
     ]
    },
    {
     "data": {
      "text/plain": [
       "array([[7, 9, 5, 6, 5, 6],\n",
       "       [8, 9, 6, 7, 8, 7]])"
      ]
     },
     "execution_count": 30,
     "metadata": {},
     "output_type": "execute_result"
    }
   ],
   "source": [
    "# 解法 1\n",
    "cols = x.shape[1]\n",
    "print(cols)\n",
    "\n",
    "for col in range(cols):\n",
    "    y = x[:, col]\n",
    "    h = []\n",
    "    for e in y:\n",
    "        heapq.heappush(h, e)\n",
    "        if len(h) > 2:\n",
    "            heapq.heappop(h)\n",
    "    print(h)\n",
    "\n",
    "np.sort(x, axis=0)[-2:]"
   ]
  },
  {
   "cell_type": "code",
   "execution_count": 31,
   "metadata": {},
   "outputs": [
    {
     "data": {
      "text/plain": [
       "[[8, 7], [9, 9], [6, 5], [7, 6], [8, 5], [7, 6]]"
      ]
     },
     "execution_count": 31,
     "metadata": {},
     "output_type": "execute_result"
    }
   ],
   "source": [
    "# 解法 2\n",
    "list(map(lambda x: heapq.nlargest(n=2, iterable=x), x.T))"
   ]
  }
 ],
 "metadata": {
  "kernelspec": {
   "display_name": "Python 3",
   "language": "python",
   "name": "python3"
  },
  "language_info": {
   "codemirror_mode": {
    "name": "ipython",
    "version": 3
   },
   "file_extension": ".py",
   "mimetype": "text/x-python",
   "name": "python",
   "nbconvert_exporter": "python",
   "pygments_lexer": "ipython3",
   "version": "3.8.2"
  },
  "toc": {
   "base_numbering": 1,
   "nav_menu": {},
   "number_sections": true,
   "sideBar": true,
   "skip_h1_title": false,
   "title_cell": "Table of Contents",
   "title_sidebar": "Contents",
   "toc_cell": false,
   "toc_position": {},
   "toc_section_display": true,
   "toc_window_display": true
  }
 },
 "nbformat": 4,
 "nbformat_minor": 2
}
