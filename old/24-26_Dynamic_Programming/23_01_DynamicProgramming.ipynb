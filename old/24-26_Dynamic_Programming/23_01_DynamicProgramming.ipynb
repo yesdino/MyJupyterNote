{
 "cells": [
  {
   "cell_type": "markdown",
   "metadata": {
    "run_control": {
     "frozen": false,
     "read_only": false
    }
   },
   "source": [
    "# Dynamic Programming（DP）"
   ]
  },
  {
   "cell_type": "markdown",
   "metadata": {},
   "source": [
    "<a id=\"top\"></a>"
   ]
  },
  {
   "cell_type": "markdown",
   "metadata": {},
   "source": [
    "## 动态规划介绍\n",
    "\n",
    "**Divide:** \n",
    "\n",
    "breaking a complex problem into a set of simpler sub-problems, solving each of those sub-problems just once, and storing their solutions - ideally, using a memory-based data structure\n",
    "\n",
    "**Lookup:** \n",
    "\n",
    "The next time the same sub-problem occurs, instead of re-computing its solution, one simply looks up the previously computed solution, thereby saving computation time at the expense of a (hopefully) modest expenditure in storage space\n",
    "\n",
    "The technique of storing solutions to sub-problems instead of re-computing them is called ** “memoization” **\n",
    "\n",
    "- Divide-and-conquer.  Break up a problem into independent subproblems, solve each subproblem, and combine solution to subproblems to form solution to original problem\n",
    "    - Top-Down\n",
    "- Dynamic programming.  Break up a problem into a series of overlapping subproblems, and build up solutions to larger and larger subproblems\n",
    "    - Bottom-Up\n",
    "\n",
    "<br>\n",
    "\n",
    "**我们已经见过的Dynamic Programming相关的问题**\n",
    "\n",
    "- Fibonacci 斐波那契数列\n",
    "- Hanoi Tower 汉诺塔\n",
    "- Maximum Sum Subarray 最大子数和"
   ]
  },
  {
   "cell_type": "markdown",
   "metadata": {},
   "source": [
    "## 练习"
   ]
  },
  {
   "cell_type": "markdown",
   "metadata": {},
   "source": [
    "- <a href=\"#Ex1\">Ex.1 求和的不同方式</a> Number Problem\n",
    "- <a href=\"#Ex2\">Ex.2 入室抢劫</a> House Robber\n",
    "- <a href=\"#Ex3\">Ex.3 入室抢劫2</a> House Robber II\n",
    "- <a href=\"#Ex4\">Ex.4 组织聚会</a> Planning Party\n",
    "- <a href=\"#Ex5\">Ex.5 瓷砖问题</a>\n",
    "- <a href=\"#Ex6\">Ex.6 最小台阶问题</a>\n",
    "- <a href=\"#Ex7\">Ex.7 求编码方式</a> Decode Way\n",
    "- <a href=\"#Ex8\">Ex.8 独特二叉树的搜索路径</a> Unique Binary Search Tree\n",
    "- <a href=\"#Ex9\">Ex.9 最大子序列乘积</a> Maximum Product Subarray"
   ]
  },
  {
   "cell_type": "markdown",
   "metadata": {},
   "source": [
    "### <a id='Ex1'> Ex.1 Number Problem 求和的不同方式\n",
    "\n",
    "Given n, find the number of different ways to write n as the sum of 1, 3, 4.\n",
    "\n",
    "<a href=\"#top\">回到顶部</a>"
   ]
  },
  {
   "cell_type": "code",
   "execution_count": 4,
   "metadata": {
    "collapsed": true
   },
   "outputs": [],
   "source": [
    "def coin(n):\n",
    "    dp = [0] * (n + 1)\n",
    "    dp[0] = dp[1] = dp[2] = 1\n",
    "    dp[3] = 2\n",
    "    for i in range(4, n + 1):\n",
    "        dp[i] = dp[i - 1] + dp[i - 3] + dp[i - 4]\n",
    "    \n",
    "    return dp[n]    "
   ]
  },
  {
   "cell_type": "code",
   "execution_count": 5,
   "metadata": {},
   "outputs": [
    {
     "data": {
      "text/plain": [
       "6"
      ]
     },
     "execution_count": 5,
     "metadata": {},
     "output_type": "execute_result"
    }
   ],
   "source": [
    "coin(5)"
   ]
  },
  {
   "cell_type": "code",
   "execution_count": 6,
   "metadata": {},
   "outputs": [
    {
     "data": {
      "text/plain": [
       "64"
      ]
     },
     "execution_count": 6,
     "metadata": {},
     "output_type": "execute_result"
    }
   ],
   "source": [
    "coin(10)"
   ]
  },
  {
   "cell_type": "markdown",
   "metadata": {},
   "source": [
    "### <a id='Ex2'> Ex.2 House Robber\n",
    "\n",
    "You are a professional robber planning to rob houses along a street. Each house has a certain amount of money stashed, the only constraint stopping you from robbing each of them is that adjacent houses have security system connected and it will automatically contact the police if two adjacent houses were broken into on the same night.\n",
    "\n",
    "Given a list of non-negative integers representing the amount of money of each house, determine the maximum amount of money you can rob tonight without alerting the police.\n",
    "\n",
    "你是一个小偷，盯上一排房子，相邻的房子若都被抢将触动报警系统，每个房子里面有多少钱你都调查清楚了，\n",
    "求不触动报警系统的情况下怎样才能入室抢劫抢到最多钱？\n",
    "\n",
    "<a href=\"#top\">回到顶部</a>"
   ]
  },
  {
   "cell_type": "code",
   "execution_count": 31,
   "metadata": {
    "collapsed": true
   },
   "outputs": [],
   "source": [
    "def rob(nums):\n",
    "    n = len(nums)\n",
    "    dp = [ [0] * 2 for _ in range(n + 1)]\n",
    "    for i in range(1, n + 1):\n",
    "        dp[i][0] = max(dp[i - 1][0], dp[i - 1][1]) # forget it\n",
    "        dp[i][1] = nums[i - 1] + dp[i - 1][0]       # let's do it\n",
    "    return max(dp[n][0], dp[n][1])  "
   ]
  },
  {
   "cell_type": "code",
   "execution_count": 32,
   "metadata": {},
   "outputs": [
    {
     "data": {
      "text/plain": [
       "12"
      ]
     },
     "execution_count": 32,
     "metadata": {},
     "output_type": "execute_result"
    }
   ],
   "source": [
    "nums = [2,7,9,3,1]\n",
    "rob(nums)"
   ]
  },
  {
   "cell_type": "code",
   "execution_count": 34,
   "metadata": {
    "collapsed": true
   },
   "outputs": [],
   "source": [
    "def rob(nums):\n",
    "    yes, no = 0, 0\n",
    "    for i in nums: \n",
    "        no, yes = max(no, yes), i + no\n",
    "    return max(no, yes)"
   ]
  },
  {
   "cell_type": "code",
   "execution_count": 35,
   "metadata": {},
   "outputs": [
    {
     "data": {
      "text/plain": [
       "12"
      ]
     },
     "execution_count": 35,
     "metadata": {},
     "output_type": "execute_result"
    }
   ],
   "source": [
    "nums = [2,7,9,3,1]\n",
    "rob(nums)"
   ]
  },
  {
   "cell_type": "code",
   "execution_count": null,
   "metadata": {
    "collapsed": true
   },
   "outputs": [],
   "source": []
  },
  {
   "cell_type": "markdown",
   "metadata": {},
   "source": [
    "### <a id='Ex3'> Ex.3 House Robber II \n",
    "\n",
    "**Follow up:**\n",
    "\n",
    "All houses at this place are arranged in a circle. That means the first house is the neighbor of the last one. Meanwhile, the security system for these houses remain the same as for those in the previous street.\n",
    "\n",
    "    \n",
    "你是一个小偷，盯上一 圆形 排列的街道房子，相邻的房子若都被抢将触动报警系统，每个房子里面有多少钱你都调查清楚了，<br>\n",
    "求不触动报警系统的情况下怎样才能入室抢劫抢到最多钱？<br>\n",
    "    \n",
    "<a href=\"#top\">回到顶部</a>"
   ]
  },
  {
   "cell_type": "code",
   "execution_count": 37,
   "metadata": {
    "collapsed": true
   },
   "outputs": [],
   "source": [
    "def rob(nums):\n",
    "    def rob(nums):\n",
    "        yes, no = 0, 0\n",
    "        for i in nums: \n",
    "            no, yes = max(no, yes), i + no\n",
    "        return max(no, yes)\n",
    "    return max(rob(nums[len(nums) != 1:]), rob(nums[:-1]))"
   ]
  },
  {
   "cell_type": "code",
   "execution_count": 38,
   "metadata": {},
   "outputs": [
    {
     "data": {
      "text/plain": [
       "11"
      ]
     },
     "execution_count": 38,
     "metadata": {},
     "output_type": "execute_result"
    }
   ],
   "source": [
    "nums = [2,7,9,3,1]\n",
    "rob(nums)"
   ]
  },
  {
   "cell_type": "code",
   "execution_count": 40,
   "metadata": {
    "collapsed": true
   },
   "outputs": [],
   "source": [
    "def rob(nums):\n",
    "    if len(nums) == 0:\n",
    "        return 0\n",
    "\n",
    "    if len(nums) == 1:\n",
    "        return nums[0]\n",
    "\n",
    "    return max(robRange(nums, 0, len(nums) - 1),\\\n",
    "               robRange(nums, 1, len(nums)))\n",
    "\n",
    "def robRange(nums, start, end):\n",
    "    yes, no = nums[start], 0\n",
    "    for i in range(start + 1, end): \n",
    "        no, yes = max(no, yes), i + no\n",
    "    return max(no, yes)"
   ]
  },
  {
   "cell_type": "code",
   "execution_count": 41,
   "metadata": {},
   "outputs": [
    {
     "data": {
      "text/plain": [
       "11"
      ]
     },
     "execution_count": 41,
     "metadata": {},
     "output_type": "execute_result"
    }
   ],
   "source": [
    "nums = [2,7,9,3,1]\n",
    "rob(nums)"
   ]
  },
  {
   "cell_type": "code",
   "execution_count": null,
   "metadata": {
    "collapsed": true
   },
   "outputs": [],
   "source": []
  },
  {
   "cell_type": "markdown",
   "metadata": {},
   "source": [
    "### <a id='Ex4'> Ex.4 Planning Party 聚会偷盗\n",
    "\n",
    "A company is planning a party for its employees. The employees are organized into a strict hierarchy, i.e. a tree rooted the president. There is one restriction for the party, though, on the guest list to the party: an employee and his/her immediate supervisor (parent in the tree) cannot both attend the party. You wish to prepare a guest list for the party that maximizes the number of the guests.\n",
    "\n",
    "**Follow up:**<br>\n",
    "It is a fund raising party, and the organizer knows how much each employee would donate, in advance. So the question is, how to maximize the money.\n",
    "\n",
    "你是一个劫匪，实现知道一个公司开年会，你知道去的每个员工身上有多少钱<br>\n",
    "条件：抢了一个员工，就不能继续抢他的上级或者下属，否则大家将会互相通知来抓住你<br>\n",
    "求如何才能抢到最多钱？\n",
    "    \n",
    "<a href=\"#top\">回到顶部</a>"
   ]
  },
  {
   "cell_type": "code",
   "execution_count": null,
   "metadata": {
    "collapsed": true
   },
   "outputs": [],
   "source": []
  },
  {
   "cell_type": "markdown",
   "metadata": {},
   "source": [
    "### <a id='Ex5'> Tile tiles Problem 瓷砖问题\n",
    "\n",
    "Given a 𝑛×2 board and tiles of size 1×2, count the number of ways to tile the given board using the 1×2 tiles. A tile can either be placed horizontally i.e., as a 1×2 tile or vertically i.e., as 2×1 tile.\n",
    "\n",
    "**Follow up (Challenge!!!)**\n",
    "\n",
    "In how many ways can you tile a 3×𝑛 rectangle with 2×1 dominoes? \n",
    "\n",
    "<img src=\"../images/ch23/tile.png\" width=\"600\"/>"
   ]
  },
  {
   "cell_type": "code",
   "execution_count": null,
   "metadata": {
    "collapsed": true
   },
   "outputs": [],
   "source": []
  },
  {
   "cell_type": "markdown",
   "metadata": {},
   "source": [
    "### <a id='Ex6'> Ex. 6 Min Cost Climbing Stairs 最小台阶问题\n",
    "\n",
    "On a staircase, the i-th step has some non-negative cost cost[i] assigned (0 indexed).\n",
    "\n",
    "Once you pay the cost, you can either climb one or two steps. You need to find minimum cost to reach the top of the floor, and you can either start from the step with index 0, or the step with index 1.\n",
    "\n",
    "有一个楼梯，需要你从最底下到最上面，你可以一次走一步或者一次走两步<br>\n",
    "限制：每一层楼梯都要交费，每层收费不同<br>\n",
    "    \n",
    "求：如何走才花费最少？<br>\n",
    "\n",
    "<a href=\"#top\">回到顶部</a>"
   ]
  },
  {
   "cell_type": "code",
   "execution_count": 45,
   "metadata": {
    "collapsed": true
   },
   "outputs": [],
   "source": [
    "# 时间复杂度：O(n), 空间复杂度：O(n)\n",
    "def minCostClimbingStairs(cost):\n",
    "    n = len(cost) + 1\n",
    "    dp = [0] * n\n",
    "    for i in range(2, n):\n",
    "        dp[i] = min(dp[i - 2] + cost[i - 2], dp[i - 1] + cost[i - 1])\n",
    "    return dp[-1]"
   ]
  },
  {
   "cell_type": "code",
   "execution_count": 46,
   "metadata": {},
   "outputs": [
    {
     "data": {
      "text/plain": [
       "6"
      ]
     },
     "execution_count": 46,
     "metadata": {},
     "output_type": "execute_result"
    }
   ],
   "source": [
    "cost = [1, 100, 1, 1, 1, 100, 1, 1, 100, 1]\n",
    "minCostClimbingStairs(cost)"
   ]
  },
  {
   "cell_type": "code",
   "execution_count": 47,
   "metadata": {
    "collapsed": true
   },
   "outputs": [],
   "source": [
    "def minCostClimbingStairs2(cost):\n",
    "    dp0, dp1, dp2 = 0, 0, 0\n",
    "    for i in range(2, len(cost) + 1):\n",
    "        dp2 = min(dp0 + cost[i - 2], dp1 + cost[i - 1])\n",
    "        dp0, dp1 = dp1, dp2\n",
    "    return dp2"
   ]
  },
  {
   "cell_type": "code",
   "execution_count": 48,
   "metadata": {},
   "outputs": [
    {
     "data": {
      "text/plain": [
       "6"
      ]
     },
     "execution_count": 48,
     "metadata": {},
     "output_type": "execute_result"
    }
   ],
   "source": [
    "cost = [1, 100, 1, 1, 1, 100, 1, 1, 100, 1]\n",
    "minCostClimbingStairs2(cost)"
   ]
  },
  {
   "cell_type": "code",
   "execution_count": null,
   "metadata": {
    "collapsed": true
   },
   "outputs": [],
   "source": []
  },
  {
   "cell_type": "markdown",
   "metadata": {},
   "source": [
    "### <a id='Ex7'> Ex. 7 Decode Way  求编码方式\n",
    "\n",
    "A message containing letters from A-Z is being encoded to numbers using the following mapping:<br>\n",
    "一段包含着 A-Z 的短信用以下方式进行编码：\n",
    "```\n",
    "'A' -> 1 \n",
    "'B' -> 2 \n",
    "... \n",
    "'Z' -> 26 \n",
    "```\n",
    "\n",
    "Given an encoded message containing digits, determine the total number of ways to decode it.<br>\n",
    "要求：给定一段编码的短信，计算编码的方式：\n",
    "```\n",
    "Input: \"12\"\n",
    "Output: 2\n",
    "Explanation: It could be decoded as \"AB\" (1 2) or \"L\" (12).\n",
    "```\n",
    "\n",
    "```\n",
    "Input: \"226\"\n",
    "Output: 3\n",
    "Explanation: It could be decoded as \"BZ\" (2 26), \"VF\" (22 6), or \"BBF\" (2 2 6).\n",
    "```\n",
    "\n",
    "<a href=\"#top\">回到顶部</a>"
   ]
  },
  {
   "cell_type": "code",
   "execution_count": 51,
   "metadata": {
    "collapsed": true
   },
   "outputs": [],
   "source": [
    "def numDecodings(s):\n",
    "    if s==\"\" or s[0]=='0': return 0\n",
    "    dp=[1,1]\n",
    "    for i in range(2,len(s)+1):\n",
    "        # if it is 0, then dp[i] = 0\n",
    "        result = 0\n",
    "        if 10 <=int(s[i-2:i]) <=26:\n",
    "            result = dp[i-2]\n",
    "        if s[i-1] != '0':\n",
    "            result += dp[i-1]\n",
    "        dp.append(result)\n",
    "    return dp[len(s)]"
   ]
  },
  {
   "cell_type": "code",
   "execution_count": 52,
   "metadata": {},
   "outputs": [
    {
     "data": {
      "text/plain": [
       "1"
      ]
     },
     "execution_count": 52,
     "metadata": {},
     "output_type": "execute_result"
    }
   ],
   "source": [
    "numDecodings(\"110\")"
   ]
  },
  {
   "cell_type": "code",
   "execution_count": 53,
   "metadata": {},
   "outputs": [
    {
     "data": {
      "text/plain": [
       "0"
      ]
     },
     "execution_count": 53,
     "metadata": {},
     "output_type": "execute_result"
    }
   ],
   "source": [
    "numDecodings(\"40\")"
   ]
  },
  {
   "cell_type": "code",
   "execution_count": 54,
   "metadata": {},
   "outputs": [
    {
     "data": {
      "text/plain": [
       "3"
      ]
     },
     "execution_count": 54,
     "metadata": {},
     "output_type": "execute_result"
    }
   ],
   "source": [
    "numDecodings(\"226\")"
   ]
  },
  {
   "cell_type": "code",
   "execution_count": null,
   "metadata": {
    "collapsed": true
   },
   "outputs": [],
   "source": []
  },
  {
   "cell_type": "markdown",
   "metadata": {},
   "source": [
    "### <a id='Ex8'> Ex. 8 Unique Binary Search Trees 独特二叉树的搜索路径\n",
    "\n",
    "Given n, how many structurally unique BST's (binary search trees) that store values 1...n?<br>\n",
    "\n",
    "给定 n，用 1, 2..., n 来表达 Binary Search Tree，求有几种表达方式？\n",
    "\n",
    "\n",
    "<a href=\"#top\">回到顶部</a>"
   ]
  },
  {
   "cell_type": "code",
   "execution_count": 56,
   "metadata": {
    "collapsed": true
   },
   "outputs": [],
   "source": [
    "def numTress(n):\n",
    "    if n <= 2:\n",
    "        return n\n",
    "    sol = [0] * (n + 1)\n",
    "    sol[0] = sol[1] = 1\n",
    "    for i in range(2, n + 1):\n",
    "        for left in range (0, i):\n",
    "            sol[i] += sol[left] * sol[i - 1 - left]\n",
    "    \n",
    "    return sol[n]        "
   ]
  },
  {
   "cell_type": "code",
   "execution_count": 58,
   "metadata": {},
   "outputs": [
    {
     "data": {
      "text/plain": [
       "[1, 2, 5, 14, 42]"
      ]
     },
     "execution_count": 58,
     "metadata": {},
     "output_type": "execute_result"
    }
   ],
   "source": [
    "[numTress(i) for i in range(1, 6)]"
   ]
  },
  {
   "cell_type": "code",
   "execution_count": null,
   "metadata": {
    "collapsed": true
   },
   "outputs": [],
   "source": []
  },
  {
   "cell_type": "markdown",
   "metadata": {},
   "source": [
    "### <a id='Ex9'> Ex. 9 Maximum Product Subarray 最大子序列乘积\n",
    "\n",
    "Find the contiguous subarray within an array (containing at least one number) which has the largest product.\n",
    "\n",
    "给你一个数组，你需要在数组中找到一个子数组，使其乘积为最大\n",
    "\n",
    "    \n",
    "<a href=\"#top\">回到顶部</a>"
   ]
  },
  {
   "cell_type": "code",
   "execution_count": 59,
   "metadata": {
    "collapsed": true
   },
   "outputs": [],
   "source": [
    "def maxProduct(nums):\n",
    "    if len(nums) == 0:\n",
    "        return 0\n",
    "    maximum = minimum = result = nums[0]\n",
    "    for i in range(1, len(nums)):\n",
    "        maximum, minimum = max(maximum * nums[i], minimum * nums[i], nums[i]), \\\n",
    "                           min(maximum * nums[i], minimum * nums[i], nums[i])\n",
    "        result = max(result, maximum)\n",
    "    return result"
   ]
  },
  {
   "cell_type": "code",
   "execution_count": 61,
   "metadata": {},
   "outputs": [
    {
     "data": {
      "text/plain": [
       "6"
      ]
     },
     "execution_count": 61,
     "metadata": {},
     "output_type": "execute_result"
    }
   ],
   "source": [
    "nums = [2,3,-2,4]\n",
    "maxProduct(nums)"
   ]
  },
  {
   "cell_type": "code",
   "execution_count": null,
   "metadata": {
    "collapsed": true
   },
   "outputs": [],
   "source": []
  },
  {
   "cell_type": "code",
   "execution_count": null,
   "metadata": {
    "collapsed": true
   },
   "outputs": [],
   "source": []
  }
 ],
 "metadata": {
  "kernelspec": {
   "display_name": "Python 3",
   "language": "python",
   "name": "python3"
  },
  "language_info": {
   "codemirror_mode": {
    "name": "ipython",
    "version": 3
   },
   "file_extension": ".py",
   "mimetype": "text/x-python",
   "name": "python",
   "nbconvert_exporter": "python",
   "pygments_lexer": "ipython3",
   "version": "3.7.1"
  },
  "toc": {
   "base_numbering": 1,
   "nav_menu": {},
   "number_sections": true,
   "sideBar": true,
   "skip_h1_title": false,
   "title_cell": "Table of Contents",
   "title_sidebar": "Contents",
   "toc_cell": false,
   "toc_position": {},
   "toc_section_display": true,
   "toc_window_display": true
  }
 },
 "nbformat": 4,
 "nbformat_minor": 2
}
